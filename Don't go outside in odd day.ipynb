{
 "cells": [
  {
   "cell_type": "code",
   "execution_count": 27,
   "id": "f9e4a9e5",
   "metadata": {},
   "outputs": [
    {
     "name": "stdout",
     "output_type": "stream",
     "text": [
      "Number of odd num: 4\n",
      "Number of even num: 5\n"
     ]
    }
   ],
   "source": [
    "num = (1,2,3,4,5,6,7,8,9)\n",
    "odd = 0\n",
    "even = 0\n",
    "for i in num:\n",
    "    if not i%2:\n",
    "            odd+=1\n",
    "    else:\n",
    "            even+=1\n",
    "print(\"Number of odd num:\",odd)\n",
    "print(\"Number of even num:\",even)"
   ]
  },
  {
   "cell_type": "code",
   "execution_count": 22,
   "id": "9b7f1304",
   "metadata": {},
   "outputs": [
    {
     "name": "stdout",
     "output_type": "stream",
     "text": [
      "1 0 1 0 1 0 1 0 1\n"
     ]
    }
   ],
   "source": [
    "print(1%2, 2%2, 3%2, 4%2, 5%2, 6%2, 7%2, 8%2, 9%2)"
   ]
  },
  {
   "cell_type": "code",
   "execution_count": null,
   "id": "2a42c488",
   "metadata": {},
   "outputs": [],
   "source": []
  }
 ],
 "metadata": {
  "kernelspec": {
   "display_name": "Python 3 (ipykernel)",
   "language": "python",
   "name": "python3"
  },
  "language_info": {
   "codemirror_mode": {
    "name": "ipython",
    "version": 3
   },
   "file_extension": ".py",
   "mimetype": "text/x-python",
   "name": "python",
   "nbconvert_exporter": "python",
   "pygments_lexer": "ipython3",
   "version": "3.10.1"
  }
 },
 "nbformat": 4,
 "nbformat_minor": 5
}
